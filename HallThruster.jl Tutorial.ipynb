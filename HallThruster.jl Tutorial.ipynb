{
 "cells": [
  {
   "cell_type": "markdown",
   "id": "898173c9",
   "metadata": {},
   "source": [
    "# Tutorial HallThruster.jl\n",
    "\n",
    "HallThruster is an efficient 1D fluid model to simulate Hall Thruster discharges. \n",
    "This tutorial will show you how to get started with HallThruster.jl and will compare our results to the Landmark study. Detailed information can be found in the [Documentation](https://um-pepl.github.io/HallThruster.jl/dev/).\n",
    "\n",
    "First install HallThruster.jl"
   ]
  },
  {
   "cell_type": "code",
   "execution_count": 34,
   "id": "e3ef2c21",
   "metadata": {
    "scrolled": false
   },
   "outputs": [
    {
     "name": "stderr",
     "output_type": "stream",
     "text": [
      "\u001b[32m\u001b[1m    Updating\u001b[22m\u001b[39m git-repo `https://github.com/UM-PEPL/HallThruster.jl`\n",
      "\u001b[32m\u001b[1m   Resolving\u001b[22m\u001b[39m package versions...\n",
      "\u001b[32m\u001b[1m  No Changes\u001b[22m\u001b[39m to `C:\\Users\\Paul\\.julia\\environments\\v1.7\\Project.toml`\n",
      "\u001b[32m\u001b[1m  No Changes\u001b[22m\u001b[39m to `C:\\Users\\Paul\\.julia\\environments\\v1.7\\Manifest.toml`\n"
     ]
    }
   ],
   "source": [
    "]add https://github.com/UM-PEPL/HallThruster.jl"
   ]
  },
  {
   "cell_type": "markdown",
   "id": "0ce29a3f",
   "metadata": {},
   "source": [
    "Make sure you have the following packages installed. "
   ]
  },
  {
   "cell_type": "code",
   "execution_count": 2,
   "id": "15236db2",
   "metadata": {},
   "outputs": [],
   "source": [
    "using Test\n",
    "using HallThruster\n",
    "using Plots\n",
    "using StaticArrays\n",
    "using DiffEqCallbacks\n",
    "using LinearAlgebra\n",
    "using DiffEqBase\n",
    "using LoopVectorization\n",
    "using OrdinaryDiffEq\n",
    "using PartialFunctions"
   ]
  },
  {
   "cell_type": "markdown",
   "id": "ee5db456",
   "metadata": {},
   "source": [
    "Let us define the following `run_sim()` as a helper function. The most important arguments are `end_time; ncells, nsave, dt`. When increasing the amount of cells, the timestep has to be reduced accordingly to satisfy the CFL condition. `nsave` specifies the amount of times the solution is saved in constant time intervals. \n",
    "\n",
    "Here we have the Landmark source terms and energy loss terms given as a standard, and we can select one of the 3 test cases to run. We initialize a new simulation and define the domain as twice the thruster length, as evident by the argument `L = 0.05`. The default flux is set to `rusanov` and the time marching algorithm from DifferentialEquations.jl for the heavy species is a strong stability presering Runge Kutta scheme of second order `SSPRK22`. "
   ]
  },
  {
   "cell_type": "code",
   "execution_count": 7,
   "id": "490ac3cc",
   "metadata": {},
   "outputs": [
    {
     "data": {
      "text/plain": [
       "run_sim (generic function with 2 methods)"
      ]
     },
     "execution_count": 7,
     "metadata": {},
     "output_type": "execute_result"
    }
   ],
   "source": [
    "function run_sim(end_time = 0.0002; ncells = 50, nsave = 2, dt = 1e-8,\n",
    "        implicit_energy = 1.0, reconstruct = false, limiter = HallThruster.osher,\n",
    "        restart_file = nothing, case = 1,\n",
    "        alg = SSPRK22(stage_limiter! = HallThruster.stage_limiter!, step_limiter! = HallThruster.stage_limiter!),\n",
    "        flux = HallThruster.rusanov, ionization_model = HallThruster.LandmarkIonizationLookup(), transition = HallThruster.LinearTransition(0.001, 0.0),\n",
    "        electron_neutral_model = HallThruster.LandmarkElectronNeutral(), coupled = true, energy_equation = :LANDMARK,\n",
    "        progress_interval = 0, WENO = false, L = 0.05\n",
    "    )\n",
    "\n",
    "    domain = (0.0, L)\n",
    "\n",
    "    #Landmark cases loss frequencies\n",
    "    αϵ_in, αϵ_out = if case == 1\n",
    "        (1.0, 1.0)\n",
    "    elseif case == 2\n",
    "        (0.5, 1.0)\n",
    "    elseif case == 3\n",
    "        (0.4, 1.0)\n",
    "    end\n",
    "\n",
    "    scheme = HallThruster.HyperbolicScheme(flux, limiter, reconstruct, WENO)\n",
    "\n",
    "    ϵ_anode = 3.0\n",
    "    ϵ_cathode = 3.0\n",
    "\n",
    "    config = HallThruster.Config(;\n",
    "        ncharge = 1,\n",
    "        anode_Te = 2/3 * ϵ_anode,\n",
    "        cathode_Te = 2/3 * ϵ_cathode,\n",
    "        discharge_voltage = 300.0,\n",
    "        excitation_model = HallThruster.LandmarkExcitationLookup(),\n",
    "        wall_loss_model = HallThruster.ConstantSheathPotential(-20, αϵ_in, αϵ_out),\n",
    "        wall_collision_freq = 1.0 * 1e7,\n",
    "        implicit_energy = implicit_energy,\n",
    "        transition_function = transition,\n",
    "        electron_pressure_coupled = coupled,\n",
    "        progress_interval = progress_interval,\n",
    "        neutral_velocity = 150.0,\n",
    "        neutral_temperature = 0.0,\n",
    "        ion_temperature = 0.0,\n",
    "        thruster = HallThruster.SPT_100,\n",
    "        anode_mass_flow_rate = 5e-6,\n",
    "        scheme,\n",
    "        electron_neutral_model,\n",
    "        ionization_model,\n",
    "        domain,\n",
    "        energy_equation,\n",
    "        WENO = WENO\n",
    "    )\n",
    "\n",
    "    @time sol = HallThruster.run_simulation(config, dt, end_time, ncells, nsave; restart_file, alg)\n",
    "    return sol\n",
    "end"
   ]
  },
  {
   "cell_type": "markdown",
   "id": "470adee2",
   "metadata": {},
   "source": [
    "Now we can use `run_sim()` to perform simulations. "
   ]
  },
  {
   "cell_type": "code",
   "execution_count": 9,
   "id": "14bcb071",
   "metadata": {},
   "outputs": [
    {
     "name": "stdout",
     "output_type": "stream",
     "text": [
      " 19.086142 seconds (76.77 k allocations: 33.235 MiB)\n"
     ]
    }
   ],
   "source": [
    "sol = run_sim(1e-3; ncells=200, nsave=1000, case = 1, dt = 0.7e-8);"
   ]
  },
  {
   "cell_type": "markdown",
   "id": "22fd4dc8",
   "metadata": {},
   "source": [
    "Can analyse solution, calculate currents, do postprocessing. Should add plotting functions to package?"
   ]
  },
  {
   "cell_type": "code",
   "execution_count": null,
   "id": "e452ad0d",
   "metadata": {},
   "outputs": [],
   "source": []
  }
 ],
 "metadata": {
  "kernelspec": {
   "display_name": "Julia 1.7.2",
   "language": "julia",
   "name": "julia-1.7"
  },
  "language_info": {
   "file_extension": ".jl",
   "mimetype": "application/julia",
   "name": "julia",
   "version": "1.7.2"
  }
 },
 "nbformat": 4,
 "nbformat_minor": 5
}
