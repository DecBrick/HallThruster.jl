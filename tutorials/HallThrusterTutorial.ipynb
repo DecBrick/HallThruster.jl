{
 "cells": [
  {
   "cell_type": "markdown",
   "id": "898173c9",
   "metadata": {},
   "source": [
    "# Tutorial HallThruster.jl\n",
    "\n",
    "HallThruster is an efficient 1D fluid model to simulate Hall Thruster discharges. \n",
    "This tutorial will show you how to get started with HallThruster.jl and will compare our results to the Landmark study. Detailed information can be found in the [Documentation](https://um-pepl.github.io/HallThruster.jl/dev/).\n",
    "\n",
    "First install HallThruster.jl"
   ]
  },
  {
   "cell_type": "code",
   "execution_count": 1,
   "id": "e3ef2c21",
   "metadata": {
    "scrolled": false
   },
   "outputs": [],
   "source": [
    "using Pkg\n",
    "Pkg.add(url=\"https://github.com/UM-PEPL/HallThruster.jl\")"
   ]
  },
  {
   "cell_type": "code",
   "execution_count": null,
   "id": "77f91951",
   "metadata": {},
   "outputs": [],
   "source": [
    "Pkg.add(\"Plots\")"
   ]
  },
  {
   "cell_type": "markdown",
   "id": "0ce29a3f",
   "metadata": {},
   "source": [
    "Once HallThruster is installed, let's load it along with Plots for visualizing results"
   ]
  },
  {
   "cell_type": "code",
   "execution_count": 10,
   "id": "15236db2",
   "metadata": {},
   "outputs": [
    {
     "ename": "ErrorException",
     "evalue": "Failed to precompile HallThruster [2311f341-5e6d-4941-9e3e-3ce0ae0d9ed6] to C:\\Users\\thoma\\.julia\\compiled\\v1.7\\HallThruster\\jl_5B37.tmp.",
     "output_type": "error",
     "traceback": [
      "Failed to precompile HallThruster [2311f341-5e6d-4941-9e3e-3ce0ae0d9ed6] to C:\\Users\\thoma\\.julia\\compiled\\v1.7\\HallThruster\\jl_5B37.tmp.\n",
      "\n",
      "Stacktrace:\n",
      "  [1] error(s::String)\n",
      "    @ Base .\\error.jl:33\n",
      "  [2] compilecache(pkg::Base.PkgId, path::String, internal_stderr::IO, internal_stdout::IO, ignore_loaded_modules::Bool)\n",
      "    @ Base .\\loading.jl:1466\n",
      "  [3] compilecache(pkg::Base.PkgId, path::String)\n",
      "    @ Base .\\loading.jl:1410\n",
      "  [4] _require(pkg::Base.PkgId)\n",
      "    @ Base .\\loading.jl:1120\n",
      "  [5] require(uuidkey::Base.PkgId)\n",
      "    @ Base .\\loading.jl:1013\n",
      "  [6] require(into::Module, mod::Symbol)\n",
      "    @ Base .\\loading.jl:997\n",
      "  [7] eval\n",
      "    @ .\\boot.jl:373 [inlined]\n",
      "  [8] include_string(mapexpr::typeof(REPL.softscope), mod::Module, code::String, filename::String)\n",
      "    @ Base .\\loading.jl:1196\n",
      "  [9] #invokelatest#2\n",
      "    @ .\\essentials.jl:716 [inlined]\n",
      " [10] invokelatest\n",
      "    @ .\\essentials.jl:714 [inlined]\n",
      " [11] (::VSCodeServer.var\"#164#165\"{VSCodeServer.NotebookRunCellArguments, String})()\n",
      "    @ VSCodeServer c:\\Users\\thoma\\.vscode\\extensions\\julialang.language-julia-1.6.15\\scripts\\packages\\VSCodeServer\\src\\serve_notebook.jl:19\n",
      " [12] withpath(f::VSCodeServer.var\"#164#165\"{VSCodeServer.NotebookRunCellArguments, String}, path::String)\n",
      "    @ VSCodeServer c:\\Users\\thoma\\.vscode\\extensions\\julialang.language-julia-1.6.15\\scripts\\packages\\VSCodeServer\\src\\repl.jl:184\n",
      " [13] notebook_runcell_request(conn::VSCodeServer.JSONRPC.JSONRPCEndpoint{Base.PipeEndpoint, Base.PipeEndpoint}, params::VSCodeServer.NotebookRunCellArguments)\n",
      "    @ VSCodeServer c:\\Users\\thoma\\.vscode\\extensions\\julialang.language-julia-1.6.15\\scripts\\packages\\VSCodeServer\\src\\serve_notebook.jl:13\n",
      " [14] dispatch_msg(x::VSCodeServer.JSONRPC.JSONRPCEndpoint{Base.PipeEndpoint, Base.PipeEndpoint}, dispatcher::VSCodeServer.JSONRPC.MsgDispatcher, msg::Dict{String, Any})\n",
      "    @ VSCodeServer.JSONRPC c:\\Users\\thoma\\.vscode\\extensions\\julialang.language-julia-1.6.15\\scripts\\packages\\JSONRPC\\src\\typed.jl:67\n",
      " [15] serve_notebook(pipename::String, outputchannel_logger::Base.CoreLogging.SimpleLogger; crashreporting_pipename::String)\n",
      "    @ VSCodeServer c:\\Users\\thoma\\.vscode\\extensions\\julialang.language-julia-1.6.15\\scripts\\packages\\VSCodeServer\\src\\serve_notebook.jl:136\n",
      " [16] top-level scope\n",
      "    @ c:\\Users\\thoma\\.vscode\\extensions\\julialang.language-julia-1.6.15\\scripts\\notebook\\notebook.jl:32\n",
      " [17] include(mod::Module, _path::String)\n",
      "    @ Base .\\Base.jl:418\n",
      " [18] exec_options(opts::Base.JLOptions)\n",
      "    @ Base .\\client.jl:292\n",
      " [19] _start()\n",
      "    @ Base .\\client.jl:495"
     ]
    }
   ],
   "source": [
    "using HallThruster\n",
    "using Plots"
   ]
  },
  {
   "cell_type": "markdown",
   "id": "c0971ecc",
   "metadata": {},
   "source": [
    "Let's try and replicate the LANDMARK benchmarks. "
   ]
  },
  {
   "cell_type": "markdown",
   "id": "ee5db456",
   "metadata": {},
   "source": [
    "Let us define the following `run_sim()` as a helper function. The most important arguments are `end_time; ncells, nsave, dt`. When increasing the amount of cells, the timestep has to be reduced accordingly to satisfy the CFL condition. `nsave` specifies the amount of times the solution is saved in constant time intervals. \n",
    "\n",
    "Here we have the Landmark source terms and energy loss terms given as a standard, and we can select one of the 3 test cases to run. We initialize a new simulation and define the domain as twice the thruster length, as evident by the argument `L = 0.05`. The default flux is set to `rusanov` and the time marching algorithm from DifferentialEquations.jl for the heavy species is a strong stability presering Runge Kutta scheme of second order `SSPRK22`. "
   ]
  },
  {
   "cell_type": "code",
   "execution_count": null,
   "id": "1281d233",
   "metadata": {},
   "outputs": [],
   "source": []
  },
  {
   "cell_type": "code",
   "execution_count": 11,
   "id": "490ac3cc",
   "metadata": {},
   "outputs": [
    {
     "name": "stderr",
     "output_type": "stream",
     "text": [
      "\u001b[32m\u001b[1m     Cloning\u001b[22m\u001b[39m git-repo `https://github.com/UM-PEPL/HallThruster.jl`\n",
      "\u001b[32m\u001b[1m    Updating\u001b[22m\u001b[39m git-repo `https://github.com/UM-PEPL/HallThruster.jl`\n",
      "\u001b[32m\u001b[1m    Updating\u001b[22m\u001b[39m registry at `C:\\Users\\thoma\\.julia\\registries\\General`\n",
      "\u001b[32m\u001b[1m    Updating\u001b[22m\u001b[39m git-repo `https://github.com/JuliaRegistries/General.git`\n",
      "\u001b[91m\u001b[1mERROR: \u001b[22m\u001b[39mLoadError: ArgumentError: Package HallThruster does not have SpecialFunctions in its dependencies:\n",
      "- If you have HallThruster checked out for development and have\n",
      "  added SpecialFunctions as a dependency but haven't updated your primary\n",
      "  environment's manifest file, try `Pkg.resolve()`.\n",
      "- Otherwise you may need to report an issue with HallThruster\n",
      "Stacktrace:\n",
      " [1] \u001b[0m\u001b[1mrequire\u001b[22m\u001b[0m\u001b[1m(\u001b[22m\u001b[90minto\u001b[39m::\u001b[0mModule, \u001b[90mmod\u001b[39m::\u001b[0mSymbol\u001b[0m\u001b[1m)\u001b[22m\n",
      "\u001b[90m   @ \u001b[39m\u001b[90mBase\u001b[39m \u001b[90m.\\\u001b[39m\u001b[90m\u001b[4mloading.jl:980\u001b[24m\u001b[39m\n",
      " [2] \u001b[0m\u001b[1minclude\u001b[22m\n",
      "\u001b[90m   @ \u001b[39m\u001b[90m.\\\u001b[39m\u001b[90m\u001b[4mBase.jl:418\u001b[24m\u001b[39m\u001b[90m [inlined]\u001b[39m\n",
      " [3] \u001b[0m\u001b[1minclude_package_for_output\u001b[22m\u001b[0m\u001b[1m(\u001b[22m\u001b[90mpkg\u001b[39m::\u001b[0mBase.PkgId, \u001b[90minput\u001b[39m::\u001b[0mString, \u001b[90mdepot_path\u001b[39m::\u001b[0mVector\u001b[90m{String}\u001b[39m, \u001b[90mdl_load_path\u001b[39m::\u001b[0mVector\u001b[90m{String}\u001b[39m, \u001b[90mload_path\u001b[39m::\u001b[0mVector\u001b[90m{String}\u001b[39m, \u001b[90mconcrete_deps\u001b[39m::\u001b[0mVector\u001b[90m{Pair{Base.PkgId, UInt64}}\u001b[39m, \u001b[90msource\u001b[39m::\u001b[0mString\u001b[0m\u001b[1m)\u001b[22m\n",
      "\u001b[90m   @ \u001b[39m\u001b[90mBase\u001b[39m \u001b[90m.\\\u001b[39m\u001b[90m\u001b[4mloading.jl:1318\u001b[24m\u001b[39m\n",
      " [4] top-level scope\n",
      "\u001b[90m   @ \u001b[39m\u001b[90m\u001b[4mnone:1\u001b[24m\u001b[39m\n",
      " [5] \u001b[0m\u001b[1meval\u001b[22m\n",
      "\u001b[90m   @ \u001b[39m\u001b[90m.\\\u001b[39m\u001b[90m\u001b[4mboot.jl:373\u001b[24m\u001b[39m\u001b[90m [inlined]\u001b[39m\n",
      " [6] \u001b[0m\u001b[1meval\u001b[22m\u001b[0m\u001b[1m(\u001b[22m\u001b[90mx\u001b[39m::\u001b[0mExpr\u001b[0m\u001b[1m)\u001b[22m\n",
      "\u001b[90m   @ \u001b[39m\u001b[90mBase.MainInclude\u001b[39m \u001b[90m.\\\u001b[39m\u001b[90m\u001b[4mclient.jl:453\u001b[24m\u001b[39m\n",
      " [7] top-level scope\n",
      "\u001b[90m   @ \u001b[39m\u001b[90m\u001b[4mnone:1\u001b[24m\u001b[39m\n",
      "in expression starting at c:\\Users\\thoma\\HallThruster.jl\\src\\HallThruster.jl:1\n"
     ]
    },
    {
     "data": {
      "text/plain": [
       "run_sim (generic function with 2 methods)"
      ]
     },
     "metadata": {},
     "output_type": "display_data"
    }
   ],
   "source": [
    "function run_sim(end_time = 0.0002; ncells = 50, nsave = 2, dt = 1e-8,\n",
    "        implicit_energy = 1.0, reconstruct = false, limiter = HallThruster.osher,\n",
    "        restart_file = nothing, case = 1,\n",
    "        alg = SSPRK22(stage_limiter! = HallThruster.stage_limiter!, step_limiter! = HallThruster.stage_limiter!),\n",
    "        flux = HallThruster.rusanov, ionization_model = HallThruster.LandmarkIonizationLookup(), transition = HallThruster.LinearTransition(0.001, 0.0),\n",
    "        electron_neutral_model = HallThruster.LandmarkElectronNeutral(), coupled = true, energy_equation = :LANDMARK,\n",
    "        progress_interval = 0, WENO = false, L = 0.05\n",
    "    )\n",
    "\n",
    "    domain = (0.0, L)\n",
    "\n",
    "    #Landmark cases loss frequencies\n",
    "    αϵ_in, αϵ_out = if case == 1\n",
    "        (1.0, 1.0)\n",
    "    elseif case == 2\n",
    "        (0.5, 1.0)\n",
    "    elseif case == 3\n",
    "        (0.4, 1.0)\n",
    "    end\n",
    "\n",
    "    scheme = HallThruster.HyperbolicScheme(flux, limiter, reconstruct, WENO)\n",
    "\n",
    "    ϵ_anode = 3.0\n",
    "    ϵ_cathode = 3.0\n",
    "\n",
    "    config = HallThruster.Config(;\n",
    "        ncharge = 1,\n",
    "        anode_Te = 2/3 * ϵ_anode,\n",
    "        cathode_Te = 2/3 * ϵ_cathode,\n",
    "        discharge_voltage = 300.0,\n",
    "        excitation_model = HallThruster.LandmarkExcitationLookup(),\n",
    "        wall_loss_model = HallThruster.ConstantSheathPotential(-20, αϵ_in, αϵ_out),\n",
    "        wall_collision_freq = 1.0 * 1e7,\n",
    "        implicit_energy = implicit_energy,\n",
    "        transition_function = transition,\n",
    "        electron_pressure_coupled = coupled,\n",
    "        progress_interval = progress_interval,\n",
    "        neutral_velocity = 150.0,\n",
    "        neutral_temperature = 0.0,\n",
    "        ion_temperature = 0.0,\n",
    "        thruster = HallThruster.SPT_100,\n",
    "        anode_mass_flow_rate = 5e-6,\n",
    "        scheme,\n",
    "        electron_neutral_model,\n",
    "        ionization_model,\n",
    "        domain,\n",
    "        energy_equation,\n",
    "        WENO = WENO\n",
    "    )\n",
    "\n",
    "    @time sol = HallThruster.run_simulation(config, dt, end_time, ncells, nsave; restart_file, alg)\n",
    "    return sol\n",
    "end"
   ]
  },
  {
   "cell_type": "markdown",
   "id": "470adee2",
   "metadata": {},
   "source": [
    "Now we can use `run_sim()` to perform simulations. "
   ]
  },
  {
   "cell_type": "code",
   "execution_count": 12,
   "id": "14bcb071",
   "metadata": {},
   "outputs": [
    {
     "ename": "UndefVarError",
     "evalue": "UndefVarError: HallThruster not defined",
     "output_type": "error",
     "traceback": [
      "UndefVarError: HallThruster not defined\n",
      "\n",
      "Stacktrace:\n",
      "  [1] top-level scope\n",
      "    @ c:\\Users\\thoma\\HallThruster.jl\\HallThrusterTutorial.ipynb:1\n",
      "  [2] eval\n",
      "    @ .\\boot.jl:373 [inlined]\n",
      "  [3] include_string(mapexpr::typeof(REPL.softscope), mod::Module, code::String, filename::String)\n",
      "    @ Base .\\loading.jl:1196\n",
      "  [4] #invokelatest#2\n",
      "    @ .\\essentials.jl:716 [inlined]\n",
      "  [5] invokelatest\n",
      "    @ .\\essentials.jl:714 [inlined]\n",
      "  [6] (::VSCodeServer.var\"#164#165\"{VSCodeServer.NotebookRunCellArguments, String})()\n",
      "    @ VSCodeServer c:\\Users\\thoma\\.vscode\\extensions\\julialang.language-julia-1.6.15\\scripts\\packages\\VSCodeServer\\src\\serve_notebook.jl:19\n",
      "  [7] withpath(f::VSCodeServer.var\"#164#165\"{VSCodeServer.NotebookRunCellArguments, String}, path::String)\n",
      "    @ VSCodeServer c:\\Users\\thoma\\.vscode\\extensions\\julialang.language-julia-1.6.15\\scripts\\packages\\VSCodeServer\\src\\repl.jl:184\n",
      "  [8] notebook_runcell_request(conn::VSCodeServer.JSONRPC.JSONRPCEndpoint{Base.PipeEndpoint, Base.PipeEndpoint}, params::VSCodeServer.NotebookRunCellArguments)\n",
      "    @ VSCodeServer c:\\Users\\thoma\\.vscode\\extensions\\julialang.language-julia-1.6.15\\scripts\\packages\\VSCodeServer\\src\\serve_notebook.jl:13\n",
      "  [9] dispatch_msg(x::VSCodeServer.JSONRPC.JSONRPCEndpoint{Base.PipeEndpoint, Base.PipeEndpoint}, dispatcher::VSCodeServer.JSONRPC.MsgDispatcher, msg::Dict{String, Any})\n",
      "    @ VSCodeServer.JSONRPC c:\\Users\\thoma\\.vscode\\extensions\\julialang.language-julia-1.6.15\\scripts\\packages\\JSONRPC\\src\\typed.jl:67\n",
      " [10] serve_notebook(pipename::String, outputchannel_logger::Base.CoreLogging.SimpleLogger; crashreporting_pipename::String)\n",
      "    @ VSCodeServer c:\\Users\\thoma\\.vscode\\extensions\\julialang.language-julia-1.6.15\\scripts\\packages\\VSCodeServer\\src\\serve_notebook.jl:136\n",
      " [11] top-level scope\n",
      "    @ c:\\Users\\thoma\\.vscode\\extensions\\julialang.language-julia-1.6.15\\scripts\\notebook\\notebook.jl:32\n",
      " [12] include(mod::Module, _path::String)\n",
      "    @ Base .\\Base.jl:418\n",
      " [13] exec_options(opts::Base.JLOptions)\n",
      "    @ Base .\\client.jl:292\n",
      " [14] _start()\n",
      "    @ Base .\\client.jl:495"
     ]
    }
   ],
   "source": [
    "sol = run_sim(1e-3; ncells=200, nsave=1000, case = 1, dt = 0.7e-8);"
   ]
  },
  {
   "cell_type": "markdown",
   "id": "22fd4dc8",
   "metadata": {},
   "source": [
    "Can analyse solution, calculate currents, do postprocessing. Should add plotting functions to package?"
   ]
  },
  {
   "cell_type": "code",
   "execution_count": 13,
   "id": "e452ad0d",
   "metadata": {},
   "outputs": [
    {
     "ename": "UndefVarError",
     "evalue": "UndefVarError: HallThruster not defined",
     "output_type": "error",
     "traceback": [
      "UndefVarError: HallThruster not defined\n",
      "\n",
      "Stacktrace:\n",
      "  [1] top-level scope\n",
      "    @ c:\\Users\\thoma\\HallThruster.jl\\HallThrusterTutorial.ipynb:1\n",
      "  [2] eval\n",
      "    @ .\\boot.jl:373 [inlined]\n",
      "  [3] include_string(mapexpr::typeof(REPL.softscope), mod::Module, code::String, filename::String)\n",
      "    @ Base .\\loading.jl:1196\n",
      "  [4] #invokelatest#2\n",
      "    @ .\\essentials.jl:716 [inlined]\n",
      "  [5] invokelatest\n",
      "    @ .\\essentials.jl:714 [inlined]\n",
      "  [6] (::VSCodeServer.var\"#164#165\"{VSCodeServer.NotebookRunCellArguments, String})()\n",
      "    @ VSCodeServer c:\\Users\\thoma\\.vscode\\extensions\\julialang.language-julia-1.6.15\\scripts\\packages\\VSCodeServer\\src\\serve_notebook.jl:19\n",
      "  [7] withpath(f::VSCodeServer.var\"#164#165\"{VSCodeServer.NotebookRunCellArguments, String}, path::String)\n",
      "    @ VSCodeServer c:\\Users\\thoma\\.vscode\\extensions\\julialang.language-julia-1.6.15\\scripts\\packages\\VSCodeServer\\src\\repl.jl:184\n",
      "  [8] notebook_runcell_request(conn::VSCodeServer.JSONRPC.JSONRPCEndpoint{Base.PipeEndpoint, Base.PipeEndpoint}, params::VSCodeServer.NotebookRunCellArguments)\n",
      "    @ VSCodeServer c:\\Users\\thoma\\.vscode\\extensions\\julialang.language-julia-1.6.15\\scripts\\packages\\VSCodeServer\\src\\serve_notebook.jl:13\n",
      "  [9] dispatch_msg(x::VSCodeServer.JSONRPC.JSONRPCEndpoint{Base.PipeEndpoint, Base.PipeEndpoint}, dispatcher::VSCodeServer.JSONRPC.MsgDispatcher, msg::Dict{String, Any})\n",
      "    @ VSCodeServer.JSONRPC c:\\Users\\thoma\\.vscode\\extensions\\julialang.language-julia-1.6.15\\scripts\\packages\\JSONRPC\\src\\typed.jl:67\n",
      " [10] serve_notebook(pipename::String, outputchannel_logger::Base.CoreLogging.SimpleLogger; crashreporting_pipename::String)\n",
      "    @ VSCodeServer c:\\Users\\thoma\\.vscode\\extensions\\julialang.language-julia-1.6.15\\scripts\\packages\\VSCodeServer\\src\\serve_notebook.jl:136\n",
      " [11] top-level scope\n",
      "    @ c:\\Users\\thoma\\.vscode\\extensions\\julialang.language-julia-1.6.15\\scripts\\notebook\\notebook.jl:32\n",
      " [12] include(mod::Module, _path::String)\n",
      "    @ Base .\\Base.jl:418\n",
      " [13] exec_options(opts::Base.JLOptions)\n",
      "    @ Base .\\client.jl:292\n",
      " [14] _start()\n",
      "    @ Base .\\client.jl:495"
     ]
    }
   ],
   "source": [
    "HallThruster.plot(sol)"
   ]
  },
  {
   "cell_type": "code",
   "execution_count": null,
   "id": "8a3ffafe",
   "metadata": {},
   "outputs": [],
   "source": []
  }
 ],
 "metadata": {
  "kernelspec": {
   "display_name": "Julia 1.7.2",
   "language": "julia",
   "name": "julia-1.7"
  },
  "language_info": {
   "file_extension": ".jl",
   "mimetype": "application/julia",
   "name": "julia",
   "version": "1.7.2"
  }
 },
 "nbformat": 4,
 "nbformat_minor": 5
}
