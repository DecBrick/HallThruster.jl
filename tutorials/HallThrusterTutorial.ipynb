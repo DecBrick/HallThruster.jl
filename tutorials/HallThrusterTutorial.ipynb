{
 "cells": [
  {
   "cell_type": "markdown",
   "id": "898173c9",
   "metadata": {},
   "source": [
    "# Tutorial HallThruster.jl\n",
    "\n",
    "HallThruster is an efficient 1D fluid model to simulate Hall Thruster discharges. \n",
    "This tutorial will show you how to get started with HallThruster.jl and will compare our results to the Landmark study. Detailed information can be found in the [Documentation](https://um-pepl.github.io/HallThruster.jl/dev/).\n",
    "\n",
    "First install HallThruster.jl according to the Readme instructions. Then load it:"
   ]
  },
  {
   "cell_type": "code",
   "execution_count": 1,
   "id": "77f91951",
   "metadata": {},
   "outputs": [],
   "source": [
    "using HallThruster"
   ]
  },
  {
   "cell_type": "markdown",
   "id": "0ce29a3f",
   "metadata": {},
   "source": [
    "Let's also load Plots for visualization:"
   ]
  },
  {
   "cell_type": "code",
   "execution_count": 2,
   "id": "15236db2",
   "metadata": {},
   "outputs": [],
   "source": [
    "using Plots"
   ]
  },
  {
   "cell_type": "markdown",
   "id": "c0971ecc",
   "metadata": {},
   "source": [
    "Let's try and replicate the LANDMARK benchmarks. "
   ]
  },
  {
   "cell_type": "markdown",
   "id": "ee5db456",
   "metadata": {},
   "source": [
    "Let us define the following `run_sim()` as a helper function. The most important arguments are `end_time; ncells, nsave, dt`. When increasing the amount of cells, the timestep has to be reduced accordingly to satisfy the CFL condition. `nsave` specifies the amount of times the solution is saved in constant time intervals. \n",
    "\n",
    "Here we have the Landmark source terms and energy loss terms given as a standard, and we can select one of the 3 test cases to run. We initialize a new simulation and define the domain as twice the thruster length, as evident by the argument `L = 0.05`. The default flux is set to `rusanov` and the time marching algorithm from DifferentialEquations.jl for the heavy species is a strong stability preserving Runge Kutta scheme of second order `SSPRK22`. "
   ]
  },
  {
   "cell_type": "code",
   "execution_count": 3,
   "id": "490ac3cc",
   "metadata": {},
   "outputs": [
    {
     "data": {
      "text/plain": [
       "run_sim (generic function with 2 methods)"
      ]
     },
     "metadata": {},
     "output_type": "display_data"
    }
   ],
   "source": [
    "function run_sim(end_time = 0.0002; ncells = 50, nsave = 2, dt = 1e-8,\n",
    "        implicit_energy = 1.0, reconstruct = false, limiter = HallThruster.osher,\n",
    "        restart_file = nothing, case = 1, flux = HallThruster.rusanov, ionization_model = HallThruster.LandmarkIonizationLookup(), transition = HallThruster.LinearTransition(0.001, 0.0),\n",
    "        electron_neutral_model = HallThruster.LandmarkElectronNeutral(), coupled = true, energy_equation = :LANDMARK,\n",
    "        progress_interval = 0, WENO = false, L = 0.05\n",
    "    )\n",
    "\n",
    "    domain = (0.0, L)\n",
    "\n",
    "    #Landmark cases loss frequencies\n",
    "    αϵ_in, αϵ_out = if case == 1\n",
    "        (1.0, 1.0)\n",
    "    elseif case == 2\n",
    "        (0.5, 1.0)\n",
    "    elseif case == 3\n",
    "        (0.4, 1.0)\n",
    "    end\n",
    "\n",
    "    scheme = HallThruster.HyperbolicScheme(flux, limiter, reconstruct, WENO)\n",
    "\n",
    "    ϵ_anode = 3.0\n",
    "    ϵ_cathode = 3.0\n",
    "\n",
    "    config = HallThruster.Config(;\n",
    "        ncharge = 1,\n",
    "        anode_Te = 2/3 * ϵ_anode,\n",
    "        cathode_Te = 2/3 * ϵ_cathode,\n",
    "        discharge_voltage = 300.0,\n",
    "        excitation_model = HallThruster.LandmarkExcitationLookup(),\n",
    "        wall_loss_model = HallThruster.ConstantSheathPotential(-20, αϵ_in, αϵ_out),\n",
    "        wall_collision_freq = 1.0 * 1e7,\n",
    "        implicit_energy = implicit_energy,\n",
    "        transition_function = transition,\n",
    "        electron_pressure_coupled = coupled,\n",
    "        progress_interval = progress_interval,\n",
    "        neutral_velocity = 150.0,\n",
    "        neutral_temperature = 0.0,\n",
    "        ion_temperature = 0.0,\n",
    "        thruster = HallThruster.SPT_100,\n",
    "        anode_mass_flow_rate = 5e-6,\n",
    "        scheme,\n",
    "        electron_neutral_model,\n",
    "        ionization_model,\n",
    "        domain,\n",
    "        energy_equation,\n",
    "        WENO = WENO\n",
    "    )\n",
    "\n",
    "    @time sol = HallThruster.run_simulation(config, dt, end_time, ncells, nsave; restart_file)\n",
    "    return sol\n",
    "end"
   ]
  },
  {
   "cell_type": "markdown",
   "id": "470adee2",
   "metadata": {},
   "source": [
    "Now we can use `run_sim()` to perform simulations. "
   ]
  },
  {
   "cell_type": "code",
   "execution_count": 4,
   "id": "14bcb071",
   "metadata": {},
   "outputs": [
    {
     "ename": "UndefVarError",
     "evalue": "UndefVarError: readdlm not defined",
     "output_type": "error",
     "traceback": [
      "UndefVarError: readdlm not defined\n",
      "\n",
      "Stacktrace:\n",
      "  [1] load_reactions(#unused#::HallThruster.LandmarkIonizationLookup, species::Vector{HallThruster.Species})\n",
      "    @ HallThruster C:\\Users\\thoma\\.julia\\packages\\HallThruster\\uwGdj\\src\\collisions\\ionization.jl:80\n",
      "  [2] _load_reactions\n",
      "    @ C:\\Users\\thoma\\.julia\\packages\\HallThruster\\uwGdj\\src\\collisions\\reactions.jl:102 [inlined]\n",
      "  [3] run_simulation(config::HallThruster.Config{HallThruster.TwoZoneBohm, HallThruster.ConstantSheathPotential, HallThruster.LandmarkIonizationLookup, HallThruster.LandmarkExcitationLookup, HallThruster.LandmarkElectronNeutral, HallThruster.Thruster{PartialFunctions.PartialFunction{typeof(HallThruster.B_field_SPT_100), Tuple{Float64, Float64}, NamedTuple{(), Tuple{}}}}, Returns{Float64}, Vector{Returns{Float64}}, Vector{Returns{Float64}}, Returns{Float64}, Returns{Float64}, HallThruster.LinearTransition, HallThruster.DefaultInitialization, Nothing, HallThruster.HyperbolicScheme{typeof(HallThruster.rusanov), HallThruster.FluxLimiter{HallThruster.var\"#17#18\"}}}, timestep::Float64, end_time::Float64, ncells::Int64, nsave::Int64; alg::OrdinaryDiffEq.SSPRK22{typeof(HallThruster.stage_limiter!), typeof(HallThruster.stage_limiter!), Static.False}, restart_file::Nothing)\n",
      "    @ HallThruster C:\\Users\\thoma\\.julia\\packages\\HallThruster\\uwGdj\\src\\simulation\\simulation.jl:50\n",
      "  [4] macro expansion\n",
      "    @ .\\timing.jl:220 [inlined]\n",
      "  [5] run_sim(end_time::Float64; ncells::Int64, nsave::Int64, dt::Float64, implicit_energy::Float64, reconstruct::Bool, limiter::HallThruster.FluxLimiter{HallThruster.var\"#17#18\"}, restart_file::Nothing, case::Int64, flux::typeof(HallThruster.rusanov), ionization_model::HallThruster.LandmarkIonizationLookup, transition::HallThruster.LinearTransition, electron_neutral_model::HallThruster.LandmarkElectronNeutral, coupled::Bool, energy_equation::Symbol, progress_interval::Int64, WENO::Bool, L::Float64)\n",
      "    @ Main c:\\Users\\thoma\\HallThruster.jl\\tutorials\\HallThrusterTutorial.ipynb:49\n",
      "  [6] top-level scope\n",
      "    @ c:\\Users\\thoma\\HallThruster.jl\\tutorials\\HallThrusterTutorial.ipynb:1\n",
      "  [7] eval\n",
      "    @ .\\boot.jl:373 [inlined]\n",
      "  [8] include_string(mapexpr::typeof(REPL.softscope), mod::Module, code::String, filename::String)\n",
      "    @ Base .\\loading.jl:1196\n",
      "  [9] #invokelatest#2\n",
      "    @ .\\essentials.jl:716 [inlined]\n",
      " [10] invokelatest\n",
      "    @ .\\essentials.jl:714 [inlined]\n",
      " [11] (::VSCodeServer.var\"#164#165\"{VSCodeServer.NotebookRunCellArguments, String})()\n",
      "    @ VSCodeServer c:\\Users\\thoma\\.vscode\\extensions\\julialang.language-julia-1.6.15\\scripts\\packages\\VSCodeServer\\src\\serve_notebook.jl:19\n",
      " [12] withpath(f::VSCodeServer.var\"#164#165\"{VSCodeServer.NotebookRunCellArguments, String}, path::String)\n",
      "    @ VSCodeServer c:\\Users\\thoma\\.vscode\\extensions\\julialang.language-julia-1.6.15\\scripts\\packages\\VSCodeServer\\src\\repl.jl:184\n",
      " [13] notebook_runcell_request(conn::VSCodeServer.JSONRPC.JSONRPCEndpoint{Base.PipeEndpoint, Base.PipeEndpoint}, params::VSCodeServer.NotebookRunCellArguments)\n",
      "    @ VSCodeServer c:\\Users\\thoma\\.vscode\\extensions\\julialang.language-julia-1.6.15\\scripts\\packages\\VSCodeServer\\src\\serve_notebook.jl:13\n",
      " [14] dispatch_msg(x::VSCodeServer.JSONRPC.JSONRPCEndpoint{Base.PipeEndpoint, Base.PipeEndpoint}, dispatcher::VSCodeServer.JSONRPC.MsgDispatcher, msg::Dict{String, Any})\n",
      "    @ VSCodeServer.JSONRPC c:\\Users\\thoma\\.vscode\\extensions\\julialang.language-julia-1.6.15\\scripts\\packages\\JSONRPC\\src\\typed.jl:67\n",
      " [15] serve_notebook(pipename::String, outputchannel_logger::Base.CoreLogging.SimpleLogger; crashreporting_pipename::String)\n",
      "    @ VSCodeServer c:\\Users\\thoma\\.vscode\\extensions\\julialang.language-julia-1.6.15\\scripts\\packages\\VSCodeServer\\src\\serve_notebook.jl:136\n",
      " [16] top-level scope\n",
      "    @ c:\\Users\\thoma\\.vscode\\extensions\\julialang.language-julia-1.6.15\\scripts\\notebook\\notebook.jl:32\n",
      " [17] include(mod::Module, _path::String)\n",
      "    @ Base .\\Base.jl:418\n",
      " [18] exec_options(opts::Base.JLOptions)\n",
      "    @ Base .\\client.jl:292\n",
      " [19] _start()\n",
      "    @ Base .\\client.jl:495"
     ]
    }
   ],
   "source": [
    "sol = run_sim(1e-3; ncells=200, nsave=1000, case = 1, dt = 0.7e-8);"
   ]
  },
  {
   "cell_type": "markdown",
   "id": "d994a558",
   "metadata": {},
   "source": [
    "`sol` is a `HallThrusterSolution` object. This mimics a standard DifferentialEquations `ODESolution` object and has the following fields\n",
    "- `u`: A vector of solution matrices of length `nsave`. This contains the main state variables: $\\rho_n$, $\\rho_i$, $\\rho_i u_i$, and $n_e\\epsilon$\n",
    "- `savevals`: A vector of NamedTuples containing some auxilliary variables including $\\phi$, $n_e$, $Tev$, $\\nu_{AN}$ , $\\nu_{en}$, $\\nu_{ei}$, and $\\mu$"
   ]
  },
  {
   "cell_type": "markdown",
   "id": "22fd4dc8",
   "metadata": {},
   "source": [
    "HallThruster has some built-in plotting and postprocessing faculties. Firstly, we can type `plot(sol, frame; case)` To plot the solution at the given frame (from 1 to nsave) and (optionally) compare to the LANDMARK benchmarks."
   ]
  },
  {
   "cell_type": "code",
   "execution_count": 5,
   "id": "e452ad0d",
   "metadata": {},
   "outputs": [
    {
     "ename": "UndefVarError",
     "evalue": "UndefVarError: sol not defined",
     "output_type": "error",
     "traceback": [
      "UndefVarError: sol not defined\n",
      "\n",
      "Stacktrace:\n",
      "  [1] top-level scope\n",
      "    @ c:\\Users\\thoma\\HallThruster.jl\\tutorials\\HallThrusterTutorial.ipynb:1\n",
      "  [2] eval\n",
      "    @ .\\boot.jl:373 [inlined]\n",
      "  [3] include_string(mapexpr::typeof(REPL.softscope), mod::Module, code::String, filename::String)\n",
      "    @ Base .\\loading.jl:1196\n",
      "  [4] #invokelatest#2\n",
      "    @ .\\essentials.jl:716 [inlined]\n",
      "  [5] invokelatest\n",
      "    @ .\\essentials.jl:714 [inlined]\n",
      "  [6] (::VSCodeServer.var\"#164#165\"{VSCodeServer.NotebookRunCellArguments, String})()\n",
      "    @ VSCodeServer c:\\Users\\thoma\\.vscode\\extensions\\julialang.language-julia-1.6.15\\scripts\\packages\\VSCodeServer\\src\\serve_notebook.jl:19\n",
      "  [7] withpath(f::VSCodeServer.var\"#164#165\"{VSCodeServer.NotebookRunCellArguments, String}, path::String)\n",
      "    @ VSCodeServer c:\\Users\\thoma\\.vscode\\extensions\\julialang.language-julia-1.6.15\\scripts\\packages\\VSCodeServer\\src\\repl.jl:184\n",
      "  [8] notebook_runcell_request(conn::VSCodeServer.JSONRPC.JSONRPCEndpoint{Base.PipeEndpoint, Base.PipeEndpoint}, params::VSCodeServer.NotebookRunCellArguments)\n",
      "    @ VSCodeServer c:\\Users\\thoma\\.vscode\\extensions\\julialang.language-julia-1.6.15\\scripts\\packages\\VSCodeServer\\src\\serve_notebook.jl:13\n",
      "  [9] dispatch_msg(x::VSCodeServer.JSONRPC.JSONRPCEndpoint{Base.PipeEndpoint, Base.PipeEndpoint}, dispatcher::VSCodeServer.JSONRPC.MsgDispatcher, msg::Dict{String, Any})\n",
      "    @ VSCodeServer.JSONRPC c:\\Users\\thoma\\.vscode\\extensions\\julialang.language-julia-1.6.15\\scripts\\packages\\JSONRPC\\src\\typed.jl:67\n",
      " [10] serve_notebook(pipename::String, outputchannel_logger::Base.CoreLogging.SimpleLogger; crashreporting_pipename::String)\n",
      "    @ VSCodeServer c:\\Users\\thoma\\.vscode\\extensions\\julialang.language-julia-1.6.15\\scripts\\packages\\VSCodeServer\\src\\serve_notebook.jl:136\n",
      " [11] top-level scope\n",
      "    @ c:\\Users\\thoma\\.vscode\\extensions\\julialang.language-julia-1.6.15\\scripts\\notebook\\notebook.jl:32\n",
      " [12] include(mod::Module, _path::String)\n",
      "    @ Base .\\Base.jl:418\n",
      " [13] exec_options(opts::Base.JLOptions)\n",
      "    @ Base .\\client.jl:292\n",
      " [14] _start()\n",
      "    @ Base .\\client.jl:495"
     ]
    }
   ],
   "source": [
    "plot(sol; case = 1)"
   ]
  },
  {
   "cell_type": "code",
   "execution_count": 6,
   "id": "8a3ffafe",
   "metadata": {},
   "outputs": [],
   "source": []
  }
 ],
 "metadata": {
  "kernelspec": {
   "display_name": "Julia 1.7.2",
   "language": "julia",
   "name": "julia-1.7"
  },
  "language_info": {
   "file_extension": ".jl",
   "mimetype": "application/julia",
   "name": "julia",
   "version": "1.7.2"
  }
 },
 "nbformat": 4,
 "nbformat_minor": 5
}
