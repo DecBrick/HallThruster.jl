{
 "cells": [
  {
   "cell_type": "markdown",
   "id": "898173c9",
   "metadata": {},
   "source": [
    "# Tutorial HallThruster.jl\n",
    "\n",
    "HallThruster is an efficient 1D fluid model to simulate Hall Thruster discharges. \n",
    "This tutorial will show you how to get started with HallThruster.jl and will compare our results to the Landmark study. Detailed information can be found in the [Documentation](https://um-pepl.github.io/HallThruster.jl/dev/).\n",
    "\n",
    "First install HallThruster.jl according to the Readme instructions. Then load it:"
   ]
  },
  {
   "cell_type": "code",
   "execution_count": 1,
   "id": "77f91951",
   "metadata": {},
   "outputs": [],
   "source": [
    "using HallThruster"
   ]
  },
  {
   "cell_type": "markdown",
   "id": "0ce29a3f",
   "metadata": {},
   "source": [
    "Let's also load Plots for visualization:"
   ]
  },
  {
   "cell_type": "code",
   "execution_count": 3,
   "id": "15236db2",
   "metadata": {},
   "outputs": [],
   "source": [
    "using Plots"
   ]
  },
  {
   "cell_type": "markdown",
   "id": "c0971ecc",
   "metadata": {},
   "source": [
    "Let's try and replicate the LANDMARK benchmarks. "
   ]
  },
  {
   "cell_type": "markdown",
   "id": "ee5db456",
   "metadata": {},
   "source": [
    "Let us define the following `run_sim()` as a helper function. The most important arguments are `end_time; ncells, nsave, dt`. When increasing the amount of cells, the timestep has to be reduced accordingly to satisfy the CFL condition. `nsave` specifies the amount of times the solution is saved in constant time intervals. \n",
    "\n",
    "Here we have the Landmark source terms and energy loss terms given as a standard, and we can select one of the 3 test cases to run. We initialize a new simulation and define the domain as twice the thruster length, as evident by the argument `L = 0.05`. The default flux is set to `rusanov` and the time marching algorithm from DifferentialEquations.jl for the heavy species is a strong stability preserving Runge Kutta scheme of second order `SSPRK22`. "
   ]
  },
  {
   "cell_type": "code",
   "execution_count": 9,
   "id": "490ac3cc",
   "metadata": {},
   "outputs": [
    {
     "data": {
      "text/plain": [
       "run_sim (generic function with 2 methods)"
      ]
     },
     "metadata": {},
     "output_type": "display_data"
    }
   ],
   "source": [
    "function run_sim(end_time = 0.0002; ncells = 50, nsave = 2, dt = 1e-8,\n",
    "        implicit_energy = 1.0, reconstruct = false, limiter = HallThruster.osher,\n",
    "        restart_file = nothing, case = 1, flux = HallThruster.rusanov, ionization_model = HallThruster.LandmarkIonizationLookup(), transition = HallThruster.LinearTransition(0.001, 0.0),\n",
    "        electron_neutral_model = HallThruster.LandmarkElectronNeutral(), coupled = true, energy_equation = :LANDMARK,\n",
    "        progress_interval = 0, WENO = false, L = 0.05\n",
    "    )\n",
    "\n",
    "    domain = (0.0, L)\n",
    "\n",
    "    #Landmark cases loss frequencies\n",
    "    αϵ_in, αϵ_out = if case == 1\n",
    "        (1.0, 1.0)\n",
    "    elseif case == 2\n",
    "        (0.5, 1.0)\n",
    "    elseif case == 3\n",
    "        (0.4, 1.0)\n",
    "    end\n",
    "\n",
    "    scheme = HallThruster.HyperbolicScheme(flux, limiter, reconstruct, WENO)\n",
    "\n",
    "    ϵ_anode = 3.0\n",
    "    ϵ_cathode = 3.0\n",
    "\n",
    "    config = HallThruster.Config(;\n",
    "        ncharge = 1,\n",
    "        anode_Te = 2/3 * ϵ_anode,\n",
    "        cathode_Te = 2/3 * ϵ_cathode,\n",
    "        discharge_voltage = 300.0,\n",
    "        excitation_model = HallThruster.LandmarkExcitationLookup(),\n",
    "        wall_loss_model = HallThruster.ConstantSheathPotential(-20, αϵ_in, αϵ_out),\n",
    "        wall_collision_freq = 1.0 * 1e7,\n",
    "        implicit_energy = implicit_energy,\n",
    "        transition_function = transition,\n",
    "        electron_pressure_coupled = coupled,\n",
    "        progress_interval = progress_interval,\n",
    "        neutral_velocity = 150.0,\n",
    "        neutral_temperature = 0.0,\n",
    "        ion_temperature = 0.0,\n",
    "        thruster = HallThruster.SPT_100,\n",
    "        anode_mass_flow_rate = 5e-6,\n",
    "        scheme,\n",
    "        electron_neutral_model,\n",
    "        ionization_model,\n",
    "        domain,\n",
    "        energy_equation,\n",
    "        WENO = WENO\n",
    "    )\n",
    "\n",
    "    @time sol = HallThruster.run_simulation(config, dt, end_time, ncells, nsave; restart_file)\n",
    "    return sol\n",
    "end"
   ]
  },
  {
   "cell_type": "markdown",
   "id": "470adee2",
   "metadata": {},
   "source": [
    "Now we can use `run_sim()` to perform simulations. "
   ]
  },
  {
   "cell_type": "code",
   "execution_count": 15,
   "id": "14bcb071",
   "metadata": {},
   "outputs": [
    {
     "name": "stdout",
     "output_type": "stream",
     "text": [
      " 30.575471 seconds (76.77 k allocations: 33.235 MiB)\n"
     ]
    }
   ],
   "source": [
    "sol = run_sim(1e-3; ncells=200, nsave=1000, case = 1, dt = 0.7e-8);"
   ]
  },
  {
   "cell_type": "markdown",
   "id": "22fd4dc8",
   "metadata": {},
   "source": [
    "HallThruster has some built-in plotting and postprocessing faculties. Firstly, we can type `plot(sol, frame; case)` To plot the solution at the given frame (from 1 to nsave) and (optionally) compare to the LANDMARK benchmarks."
   ]
  },
  {
   "cell_type": "code",
   "execution_count": 17,
   "id": "e452ad0d",
   "metadata": {},
   "outputs": [
    {
     "ename": "ErrorException",
     "evalue": "Cannot convert HallThruster.HallThrusterSolution{Vector{Float64}, Vector{Matrix{Float64}}, NamedTuple{(:config, :ϕ_L, :ϕ_R, :Te_L, :Te_R, :L_ch, :A_ch, :z_cell, :z_edge, :dt, :progress_bar, :index, :cache, :fluids, :fluid_ranges, :species_range_dict, :iteration, :ionization_reactions, :ionization_reactant_indices, :ionization_product_indices, :excitation_reactions, :excitation_reactant_indices, :electron_neutral_collisions), Tuple{HallThruster.Config{HallThruster.TwoZoneBohm, HallThruster.ConstantSheathPotential, HallThruster.LandmarkIonizationLookup, HallThruster.LandmarkExcitationLookup, HallThruster.LandmarkElectronNeutral, HallThruster.Thruster{PartialFunctions.PartialFunction{typeof(HallThruster.B_field_SPT_100), Tuple{Float64, Float64}, NamedTuple{(), Tuple{}}}}, Returns{Float64}, Vector{Returns{Float64}}, Vector{Returns{Float64}}, Returns{Float64}, Returns{Float64}, HallThruster.LinearTransition, HallThruster.DefaultInitialization, Nothing, HallThruster.HyperbolicScheme{typeof(HallThruster.rusanov), HallThruster.FluxLimiter{HallThruster.var\"#17#18\"}}}, Float64, Float64, Float64, Float64, Float64, Float64, Vector{Float64}, Vector{Float64}, Float64, Nothing, NamedTuple{(:ρn, :ρi, :ρiui, :nϵ, :Tev, :ne, :pe, :ϕ, :grad_ϕ, :ue, :lf), Tuple{Int64, Vector{Int64}, Vector{Int64}, Int64, Int64, Int64, Int64, Int64, Int64, Int64, Int64}}, NamedTuple{(:A, :b, :Aϵ, :bϵ, :B, :νan, :νc, :μ, :ϕ, :ϕ_cell, :∇ϕ, :ne, :Tev, :pe, :ue, :∇pe, :νen, :νei, :νw, :F, :UL, :UR), Tuple{LinearAlgebra.Tridiagonal{Float64, Vector{Float64}}, Vector{Float64}, LinearAlgebra.Tridiagonal{Float64, Vector{Float64}}, Vector{Float64}, Vector{Float64}, Vector{Float64}, Vector{Float64}, Vector{Float64}, Vector{Float64}, Vector{Float64}, Vector{Float64}, Vector{Float64}, Vector{Float64}, Vector{Float64}, Vector{Float64}, Vector{Float64}, Vector{Float64}, Vector{Float64}, Vector{Float64}, Matrix{Float64}, Matrix{Float64}, Matrix{Float64}}}, Vector{HallThruster.Fluid}, Vector{UnitRange{Int64}}, Dict{Symbol, UnitRange{Int64}}, Vector{Int64}, Vector{HallThruster.IonizationReaction{HallThruster.LinearInterpolation{Int64, Float64}}}, Vector{Int64}, Vector{Int64}, Vector{HallThruster.ExcitationReaction{HallThruster.LinearInterpolation{Int64, Float64}}}, Vector{Int64}, Vector{HallThruster.ElasticCollision{Returns{Float64}}}}}, Vector{NamedTuple{(:μ, :Tev, :ϕ, :∇ϕ, :ne, :pe, :ue, :∇pe, :νan, :νc, :νen, :νei, :νw, :ϕ_cell), NTuple{14, Vector{Float64}}}}} to series data for plotting",
     "output_type": "error",
     "traceback": [
      "Cannot convert HallThruster.HallThrusterSolution{Vector{Float64}, Vector{Matrix{Float64}}, NamedTuple{(:config, :ϕ_L, :ϕ_R, :Te_L, :Te_R, :L_ch, :A_ch, :z_cell, :z_edge, :dt, :progress_bar, :index, :cache, :fluids, :fluid_ranges, :species_range_dict, :iteration, :ionization_reactions, :ionization_reactant_indices, :ionization_product_indices, :excitation_reactions, :excitation_reactant_indices, :electron_neutral_collisions), Tuple{HallThruster.Config{HallThruster.TwoZoneBohm, HallThruster.ConstantSheathPotential, HallThruster.LandmarkIonizationLookup, HallThruster.LandmarkExcitationLookup, HallThruster.LandmarkElectronNeutral, HallThruster.Thruster{PartialFunctions.PartialFunction{typeof(HallThruster.B_field_SPT_100), Tuple{Float64, Float64}, NamedTuple{(), Tuple{}}}}, Returns{Float64}, Vector{Returns{Float64}}, Vector{Returns{Float64}}, Returns{Float64}, Returns{Float64}, HallThruster.LinearTransition, HallThruster.DefaultInitialization, Nothing, HallThruster.HyperbolicScheme{typeof(HallThruster.rusanov), HallThruster.FluxLimiter{HallThruster.var\"#17#18\"}}}, Float64, Float64, Float64, Float64, Float64, Float64, Vector{Float64}, Vector{Float64}, Float64, Nothing, NamedTuple{(:ρn, :ρi, :ρiui, :nϵ, :Tev, :ne, :pe, :ϕ, :grad_ϕ, :ue, :lf), Tuple{Int64, Vector{Int64}, Vector{Int64}, Int64, Int64, Int64, Int64, Int64, Int64, Int64, Int64}}, NamedTuple{(:A, :b, :Aϵ, :bϵ, :B, :νan, :νc, :μ, :ϕ, :ϕ_cell, :∇ϕ, :ne, :Tev, :pe, :ue, :∇pe, :νen, :νei, :νw, :F, :UL, :UR), Tuple{LinearAlgebra.Tridiagonal{Float64, Vector{Float64}}, Vector{Float64}, LinearAlgebra.Tridiagonal{Float64, Vector{Float64}}, Vector{Float64}, Vector{Float64}, Vector{Float64}, Vector{Float64}, Vector{Float64}, Vector{Float64}, Vector{Float64}, Vector{Float64}, Vector{Float64}, Vector{Float64}, Vector{Float64}, Vector{Float64}, Vector{Float64}, Vector{Float64}, Vector{Float64}, Vector{Float64}, Matrix{Float64}, Matrix{Float64}, Matrix{Float64}}}, Vector{HallThruster.Fluid}, Vector{UnitRange{Int64}}, Dict{Symbol, UnitRange{Int64}}, Vector{Int64}, Vector{HallThruster.IonizationReaction{HallThruster.LinearInterpolation{Int64, Float64}}}, Vector{Int64}, Vector{Int64}, Vector{HallThruster.ExcitationReaction{HallThruster.LinearInterpolation{Int64, Float64}}}, Vector{Int64}, Vector{HallThruster.ElasticCollision{Returns{Float64}}}}}, Vector{NamedTuple{(:μ, :Tev, :ϕ, :∇ϕ, :ne, :pe, :ue, :∇pe, :νan, :νc, :νen, :νei, :νw, :ϕ_cell), NTuple{14, Vector{Float64}}}}} to series data for plotting\n",
      "\n",
      "Stacktrace:\n",
      "  [1] error(s::String)\n",
      "    @ Base .\\error.jl:33\n",
      "  [2] _prepare_series_data(x::HallThruster.HallThrusterSolution{Vector{Float64}, Vector{Matrix{Float64}}, NamedTuple{(:config, :ϕ_L, :ϕ_R, :Te_L, :Te_R, :L_ch, :A_ch, :z_cell, :z_edge, :dt, :progress_bar, :index, :cache, :fluids, :fluid_ranges, :species_range_dict, :iteration, :ionization_reactions, :ionization_reactant_indices, :ionization_product_indices, :excitation_reactions, :excitation_reactant_indices, :electron_neutral_collisions), Tuple{HallThruster.Config{HallThruster.TwoZoneBohm, HallThruster.ConstantSheathPotential, HallThruster.LandmarkIonizationLookup, HallThruster.LandmarkExcitationLookup, HallThruster.LandmarkElectronNeutral, HallThruster.Thruster{PartialFunctions.PartialFunction{typeof(HallThruster.B_field_SPT_100), Tuple{Float64, Float64}, NamedTuple{(), Tuple{}}}}, Returns{Float64}, Vector{Returns{Float64}}, Vector{Returns{Float64}}, Returns{Float64}, Returns{Float64}, HallThruster.LinearTransition, HallThruster.DefaultInitialization, Nothing, HallThruster.HyperbolicScheme{typeof(HallThruster.rusanov), HallThruster.FluxLimiter{HallThruster.var\"#17#18\"}}}, Float64, Float64, Float64, Float64, Float64, Float64, Vector{Float64}, Vector{Float64}, Float64, Nothing, NamedTuple{(:ρn, :ρi, :ρiui, :nϵ, :Tev, :ne, :pe, :ϕ, :grad_ϕ, :ue, :lf), Tuple{Int64, Vector{Int64}, Vector{Int64}, Int64, Int64, Int64, Int64, Int64, Int64, Int64, Int64}}, NamedTuple{(:A, :b, :Aϵ, :bϵ, :B, :νan, :νc, :μ, :ϕ, :ϕ_cell, :∇ϕ, :ne, :Tev, :pe, :ue, :∇pe, :νen, :νei, :νw, :F, :UL, :UR), Tuple{LinearAlgebra.Tridiagonal{Float64, Vector{Float64}}, Vector{Float64}, LinearAlgebra.Tridiagonal{Float64, Vector{Float64}}, Vector{Float64}, Vector{Float64}, Vector{Float64}, Vector{Float64}, Vector{Float64}, Vector{Float64}, Vector{Float64}, Vector{Float64}, Vector{Float64}, Vector{Float64}, Vector{Float64}, Vector{Float64}, Vector{Float64}, Vector{Float64}, Vector{Float64}, Vector{Float64}, Matrix{Float64}, Matrix{Float64}, Matrix{Float64}}}, Vector{HallThruster.Fluid}, Vector{UnitRange{Int64}}, Dict{Symbol, UnitRange{Int64}}, Vector{Int64}, Vector{HallThruster.IonizationReaction{HallThruster.LinearInterpolation{Int64, Float64}}}, Vector{Int64}, Vector{Int64}, Vector{HallThruster.ExcitationReaction{HallThruster.LinearInterpolation{Int64, Float64}}}, Vector{Int64}, Vector{HallThruster.ElasticCollision{Returns{Float64}}}}}, Vector{NamedTuple{(:μ, :Tev, :ϕ, :∇ϕ, :ne, :pe, :ue, :∇pe, :νan, :νc, :νen, :νei, :νw, :ϕ_cell), NTuple{14, Vector{Float64}}}}})\n",
      "    @ RecipesPipeline C:\\Users\\thoma\\.julia\\packages\\RecipesPipeline\\F2mWY\\src\\series.jl:8\n",
      "  [3] _series_data_vector(x::HallThruster.HallThrusterSolution{Vector{Float64}, Vector{Matrix{Float64}}, NamedTuple{(:config, :ϕ_L, :ϕ_R, :Te_L, :Te_R, :L_ch, :A_ch, :z_cell, :z_edge, :dt, :progress_bar, :index, :cache, :fluids, :fluid_ranges, :species_range_dict, :iteration, :ionization_reactions, :ionization_reactant_indices, :ionization_product_indices, :excitation_reactions, :excitation_reactant_indices, :electron_neutral_collisions), Tuple{HallThruster.Config{HallThruster.TwoZoneBohm, HallThruster.ConstantSheathPotential, HallThruster.LandmarkIonizationLookup, HallThruster.LandmarkExcitationLookup, HallThruster.LandmarkElectronNeutral, HallThruster.Thruster{PartialFunctions.PartialFunction{typeof(HallThruster.B_field_SPT_100), Tuple{Float64, Float64}, NamedTuple{(), Tuple{}}}}, Returns{Float64}, Vector{Returns{Float64}}, Vector{Returns{Float64}}, Returns{Float64}, Returns{Float64}, HallThruster.LinearTransition, HallThruster.DefaultInitialization, Nothing, HallThruster.HyperbolicScheme{typeof(HallThruster.rusanov), HallThruster.FluxLimiter{HallThruster.var\"#17#18\"}}}, Float64, Float64, Float64, Float64, Float64, Float64, Vector{Float64}, Vector{Float64}, Float64, Nothing, NamedTuple{(:ρn, :ρi, :ρiui, :nϵ, :Tev, :ne, :pe, :ϕ, :grad_ϕ, :ue, :lf), Tuple{Int64, Vector{Int64}, Vector{Int64}, Int64, Int64, Int64, Int64, Int64, Int64, Int64, Int64}}, NamedTuple{(:A, :b, :Aϵ, :bϵ, :B, :νan, :νc, :μ, :ϕ, :ϕ_cell, :∇ϕ, :ne, :Tev, :pe, :ue, :∇pe, :νen, :νei, :νw, :F, :UL, :UR), Tuple{LinearAlgebra.Tridiagonal{Float64, Vector{Float64}}, Vector{Float64}, LinearAlgebra.Tridiagonal{Float64, Vector{Float64}}, Vector{Float64}, Vector{Float64}, Vector{Float64}, Vector{Float64}, Vector{Float64}, Vector{Float64}, Vector{Float64}, Vector{Float64}, Vector{Float64}, Vector{Float64}, Vector{Float64}, Vector{Float64}, Vector{Float64}, Vector{Float64}, Vector{Float64}, Vector{Float64}, Matrix{Float64}, Matrix{Float64}, Matrix{Float64}}}, Vector{HallThruster.Fluid}, Vector{UnitRange{Int64}}, Dict{Symbol, UnitRange{Int64}}, Vector{Int64}, Vector{HallThruster.IonizationReaction{HallThruster.LinearInterpolation{Int64, Float64}}}, Vector{Int64}, Vector{Int64}, Vector{HallThruster.ExcitationReaction{HallThruster.LinearInterpolation{Int64, Float64}}}, Vector{Int64}, Vector{HallThruster.ElasticCollision{Returns{Float64}}}}}, Vector{NamedTuple{(:μ, :Tev, :ϕ, :∇ϕ, :ne, :pe, :ue, :∇pe, :νan, :νc, :νen, :νei, :νw, :ϕ_cell), NTuple{14, Vector{Float64}}}}}, plotattributes::Dict{Symbol, Any})\n",
      "    @ RecipesPipeline C:\\Users\\thoma\\.julia\\packages\\RecipesPipeline\\F2mWY\\src\\series.jl:27\n",
      "  [4] macro expansion\n",
      "    @ C:\\Users\\thoma\\.julia\\packages\\RecipesPipeline\\F2mWY\\src\\series.jl:127 [inlined]\n",
      "  [5] apply_recipe(plotattributes::AbstractDict{Symbol, Any}, #unused#::Type{RecipesPipeline.SliceIt}, x::Any, y::Any, z::Any)\n",
      "    @ RecipesPipeline C:\\Users\\thoma\\.julia\\packages\\RecipesBase\\qpxEX\\src\\RecipesBase.jl:289\n",
      "  [6] _process_userrecipes!(plt::Any, plotattributes::Any, args::Any)\n",
      "    @ RecipesPipeline C:\\Users\\thoma\\.julia\\packages\\RecipesPipeline\\F2mWY\\src\\user_recipe.jl:36\n",
      "  [7] recipe_pipeline!(plt::Any, plotattributes::Any, args::Any)\n",
      "    @ RecipesPipeline C:\\Users\\thoma\\.julia\\packages\\RecipesPipeline\\F2mWY\\src\\RecipesPipeline.jl:70\n",
      "  [8] _plot!(plt::Plots.Plot, plotattributes::Any, args::Any)\n",
      "    @ Plots C:\\Users\\thoma\\.julia\\packages\\Plots\\dNEbX\\src\\plot.jl:208\n",
      "  [9] plot(args::Any; kw::Base.Pairs{Symbol, V, Tuple{Vararg{Symbol, N}}, NamedTuple{names, T}} where {V, N, names, T<:Tuple{Vararg{Any, N}}})\n",
      "    @ Plots C:\\Users\\thoma\\.julia\\packages\\Plots\\dNEbX\\src\\plot.jl:91\n",
      " [10] top-level scope\n",
      "    @ c:\\Users\\thoma\\HallThruster.jl\\tutorials\\HallThrusterTutorial.ipynb:1\n",
      " [11] eval\n",
      "    @ .\\boot.jl:373 [inlined]\n",
      " [12] include_string(mapexpr::typeof(REPL.softscope), mod::Module, code::String, filename::String)\n",
      "    @ Base .\\loading.jl:1196\n",
      " [13] #invokelatest#2\n",
      "    @ .\\essentials.jl:716 [inlined]\n",
      " [14] invokelatest\n",
      "    @ .\\essentials.jl:714 [inlined]\n",
      " [15] (::VSCodeServer.var\"#164#165\"{VSCodeServer.NotebookRunCellArguments, String})()\n",
      "    @ VSCodeServer c:\\Users\\thoma\\.vscode\\extensions\\julialang.language-julia-1.6.15\\scripts\\packages\\VSCodeServer\\src\\serve_notebook.jl:19\n",
      " [16] withpath(f::VSCodeServer.var\"#164#165\"{VSCodeServer.NotebookRunCellArguments, String}, path::String)\n",
      "    @ VSCodeServer c:\\Users\\thoma\\.vscode\\extensions\\julialang.language-julia-1.6.15\\scripts\\packages\\VSCodeServer\\src\\repl.jl:184\n",
      " [17] notebook_runcell_request(conn::VSCodeServer.JSONRPC.JSONRPCEndpoint{Base.PipeEndpoint, Base.PipeEndpoint}, params::VSCodeServer.NotebookRunCellArguments)\n",
      "    @ VSCodeServer c:\\Users\\thoma\\.vscode\\extensions\\julialang.language-julia-1.6.15\\scripts\\packages\\VSCodeServer\\src\\serve_notebook.jl:13\n",
      " [18] dispatch_msg(x::VSCodeServer.JSONRPC.JSONRPCEndpoint{Base.PipeEndpoint, Base.PipeEndpoint}, dispatcher::VSCodeServer.JSONRPC.MsgDispatcher, msg::Dict{String, Any})\n",
      "    @ VSCodeServer.JSONRPC c:\\Users\\thoma\\.vscode\\extensions\\julialang.language-julia-1.6.15\\scripts\\packages\\JSONRPC\\src\\typed.jl:67\n",
      " [19] serve_notebook(pipename::String, outputchannel_logger::Base.CoreLogging.SimpleLogger; crashreporting_pipename::String)\n",
      "    @ VSCodeServer c:\\Users\\thoma\\.vscode\\extensions\\julialang.language-julia-1.6.15\\scripts\\packages\\VSCodeServer\\src\\serve_notebook.jl:136\n",
      " [20] top-level scope\n",
      "    @ c:\\Users\\thoma\\.vscode\\extensions\\julialang.language-julia-1.6.15\\scripts\\notebook\\notebook.jl:32\n",
      " [21] include(mod::Module, _path::String)\n",
      "    @ Base .\\Base.jl:418\n",
      " [22] exec_options(opts::Base.JLOptions)\n",
      "    @ Base .\\client.jl:292\n",
      " [23] _start()\n",
      "    @ Base .\\client.jl:495"
     ]
    }
   ],
   "source": [
    "plot(sol; case = 1)"
   ]
  },
  {
   "cell_type": "code",
   "execution_count": null,
   "id": "8a3ffafe",
   "metadata": {},
   "outputs": [],
   "source": []
  }
 ],
 "metadata": {
  "kernelspec": {
   "display_name": "Julia 1.7.2",
   "language": "julia",
   "name": "julia-1.7"
  },
  "language_info": {
   "file_extension": ".jl",
   "mimetype": "application/julia",
   "name": "julia",
   "version": "1.7.2"
  }
 },
 "nbformat": 4,
 "nbformat_minor": 5
}
